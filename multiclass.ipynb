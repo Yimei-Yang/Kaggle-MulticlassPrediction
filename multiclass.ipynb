{
 "cells": [
  {
   "cell_type": "markdown",
   "id": "166e474b-a5ef-41dd-a9e6-ce8338b3a804",
   "metadata": {},
   "source": [
    "# Multi-Class Prediction of Cirrhosis Outcomes"
   ]
  },
  {
   "cell_type": "markdown",
   "id": "43423315-fda6-400a-a6cd-319e161b894a",
   "metadata": {},
   "source": [
    "### **Problem Statement**: \n",
    "#### The task is to predict survival state of patients with liver cirrhosis given features.\n",
    "> Cirrhosis results from prolonged liver damage, leading to extensive scarring, often due to conditions like hepatitis or chronic alcohol consumption.\n",
    "\n",
    "The original data description is adapted from this [notebook](https://www.kaggle.com/code/markuslill/s3e26-xgbclassifer) and the orignal data [source](https://www.kaggle.com/datasets/joebeachcapital/cirrhosis-patient-survival-prediction).\n",
    "\n",
    "The data we are using currently differs from the original source.\n",
    "\n",
    "| Variable Name | Role | Type | Encoding | Description | Missing Values |\n",
    "| --- | --- | --- | --- | --- | --- |\n",
    "| ID | ID | Int | drop | Unique identifier | No |\n",
    "| N_Days | Feature? | Int | numeric | Number of days between registration and the earlier of death(D), transplantation(CL), or being alive at the study analysis time in July 1986(C) | No |\n",
    "| Drug | Feature | Categorical | Binary | Type of drug: D-penicillamine or placebo. Type of medication may impact the effectiveness of treatment, thus affecting status. | Yes |\n",
    "| Age | Feature | Int | numeric | Age. Age could be related to disease progression; older patients may have a different status trajectory. | No |\n",
    "| Sex | Feature | Categorical | Binary | Gender: M (male) or F (female). Biological sex may influence disease patterns and response to treatment, thereby affecting status. | No |\n",
    "| Ascites | Feature | Categorical | Binary | Presence of ascites: N (No) or Y (Yes). The accumulation of fluid in the abdomen, often a sign of advanced liver disease, which could indicate a poorer status. | Yes |\n",
    "| Hepatomegaly | Feature | Categorical | Binary | Presence of hepatomegaly: N (No) or Y (Yes). Enlargement of the liver. If present, it might suggest more serious liver disease and potentially a poorer status. | Yes |\n",
    "| Spiders | Feature | Categorical | Binary | Presence of spiders: N (No) or Y (Yes). Spider angiomas are small, spider-like capillaries visible under the skin, associated with liver disease and could indicate a more advanced disease affecting status. | Yes |\n",
    "| Edema | Feature | Categorical | One-Hot | Presence of edema: N (no edema and no diuretic therapy for edema), S (edema present without diuretics, or edema resolved by diuretics), or Y (edema despite diuretic therapy). Swelling caused by excess fluid trapped in the body's tissues, often worsening the prognosis and indicating poorer status. | No |\n",
    "| Bilirubin | Feature | Continuous(Int) | numeric | Serum bilirubin. High levels can indicate liver dysfunction and may correlate with more advanced disease and poorer status. | No |\n",
    "| Cholesterol | Feature | Continous(Int)? | numeric | Serum cholesterol. While not directly related to liver function, abnormal levels can be associated with certain liver conditions and overall health status. | Yes |\n",
    "| Albumin | Feature | Continous(Int) | numeric | Low levels can be a sign of liver disease and can indicate a poorer status due to the liver's reduced ability to synthesize proteins. | No |\n",
    "| Copper | Feature | Int | numeric | Urine copper. Elevated in certain liver diseases (like Wilson's disease), and could affect status if levels are abnormally high. | Yes |\n",
    "| Alk_Phos | Feature | Continuous | numeric | Alkaline phosphatase. An enzyme related to the bile ducts; high levels might indicate blockage or other issues related to the liver. | Yes |\n",
    "| SGOT | Feature | Continuous | numeric | An enzyme that, when elevated, can indicate liver damage and could correlate with a worsening status. | Yes |\n",
    "| Triglycerides | Feature | Int | numeric | Triglycerides. Though mainly a cardiovascular risk indicator, they can be affected by liver function and, by extension, the status of the patient. | Yes |\n",
    "| Platelets | Feature | Int | numeric | Platelets per cubic. Low platelet count can be a result of advanced liver disease and can indicate a poorer status. | Yes |\n",
    "| Prothrombin | Feature | Int | numeric | Prothrombin time. A measure of how long it takes blood to clot. Liver disease can cause increased times, indicating poorer status. | Yes |\n",
    "| Stage | Feature | Categorical | Ordinal | UHistologic stage of disease (1, 2, 3, or 4). The stage of liver disease, which directly correlates with the patient's status - the higher the stage, the more serious the condition. | Yes |\n",
    "| Status | Target | Categorical | Label | C (censored) indicates the patient was alive at N_Days, CL indicates the patient was alive at N_Days due to liver a transplant, and D indicates the patient was deceased at N_Days | No |"
   ]
  },
  {
   "cell_type": "markdown",
   "id": "6331f607-7556-4078-afed-9c039454bbe6",
   "metadata": {},
   "source": [
    "#### Glaring Issues in Dataset: \n",
    "1. Continous vs. Int\n",
    "2. N_days is not considered as a feature but a 'other' type. It is indeed very confused, need some feature engineering to make better use of it.\n",
    "3. Age is in days, no idea why, we could probably bin it.\n",
    "4. Target class is imbalanced\n",
    "5. feature engineering is needed\n",
    "6. feature selection(RFE)\n",
    "7. feature importance (SHAP) "
   ]
  },
  {
   "cell_type": "markdown",
   "id": "e1b59329-ef60-47be-99a0-96a66281bbc3",
   "metadata": {},
   "source": [
    "Feature Engineering ideas: <br>\n",
    "|Transformer | Class | Type\t| Description|\n",
    "| --- | --- | --- | --- |\n",
    "DiagnosisDateTransformer| num | Calculates 'Diagnosis_Date' by subtracting 'N_Days' from 'Age'. This could provide a more direct measure of time since diagnosis, relevant for analysis. |\n",
    "AgeBinsTransformer|\tcat\t| Categorizes 'Age' into bins (19, 29, 49, 64, 99), converting a continuous variable into a categorical one for simplified analysis.|\n",
    "BilirubinAlbuminTransformer| num | Creates a new feature 'Bilirubin_Albumin' by multiplying 'Bilirubin' and 'Albumin', potentially highlighting interactions between these two variables.|\n",
    "NormalizeLabValuesTransformer|\tnum\t | Normalizes laboratory values (like 'Bilirubin', 'Cholesterol', etc.) to their z-scores, standardizing these features for modeling purposes.\n",
    "DrugEffectivenessTransformer| num | Generates a new feature 'Drug_Effectiveness' by combining 'Drug' and 'Bilirubin' levels. This assumes that changes in 'Bilirubin' reflect drug effectiveness. |\n",
    "SymptomScore(Cat)Transformer| num | Summarizes the presence of symptoms ('Ascites', 'Hepatomegaly', etc.) into a single 'Symptom_Score', simplifying the representation of patient symptoms. |\n",
    "LiverFunctionTransformer| num | Computes 'Liver_Function_Index' as the average of key liver function tests, providing a comprehensive metric for liver health. |\n",
    "RiskScoreTransformer| num | Calculates 'Risk_Score' using a combination of 'Bilirubin', 'Albumin', and 'Alk_Phos', potentially offering a composite risk assessment for patients.|\n",
    "TimeFeaturesTransformer| num | Extracts 'Year' and 'Month' from 'N_Days', converting a continuous time measure into more interpretable categorical time units. |\n"
   ]
  },
  {
   "cell_type": "markdown",
   "id": "8289d651-4120-4f4f-9588-b2d4e24eebab",
   "metadata": {},
   "source": [
    "## EDA"
   ]
  },
  {
   "cell_type": "code",
   "execution_count": 4,
   "id": "fad2ae5a-3355-447d-b626-5243043caccf",
   "metadata": {},
   "outputs": [],
   "source": [
    "import warnings\n",
    "import pandas as pd\n",
    "import numpy as np\n",
    "import altair as alt\n",
    "import matplotlib.pyplot as plt\n",
    "\n",
    "alt.data_transformers.enable(\"vegafusion\")\n",
    "\n",
    "warnings.filterwarnings(\"ignore\", category=FutureWarning)"
   ]
  },
  {
   "cell_type": "code",
   "execution_count": 2,
   "id": "56f82efa-cdf7-4439-845a-62f7d5bb574b",
   "metadata": {},
   "outputs": [],
   "source": [
    "train_df = pd.read_csv(\"data/train.csv\")"
   ]
  },
  {
   "cell_type": "code",
   "execution_count": 3,
   "id": "2b2d1f89-92b2-433a-b1b0-a70decdc8353",
   "metadata": {
    "scrolled": true
   },
   "outputs": [
    {
     "name": "stdout",
     "output_type": "stream",
     "text": [
      "<class 'pandas.core.frame.DataFrame'>\n",
      "RangeIndex: 7905 entries, 0 to 7904\n",
      "Data columns (total 20 columns):\n",
      " #   Column         Non-Null Count  Dtype  \n",
      "---  ------         --------------  -----  \n",
      " 0   id             7905 non-null   int64  \n",
      " 1   N_Days         7905 non-null   int64  \n",
      " 2   Drug           7905 non-null   object \n",
      " 3   Age            7905 non-null   int64  \n",
      " 4   Sex            7905 non-null   object \n",
      " 5   Ascites        7905 non-null   object \n",
      " 6   Hepatomegaly   7905 non-null   object \n",
      " 7   Spiders        7905 non-null   object \n",
      " 8   Edema          7905 non-null   object \n",
      " 9   Bilirubin      7905 non-null   float64\n",
      " 10  Cholesterol    7905 non-null   float64\n",
      " 11  Albumin        7905 non-null   float64\n",
      " 12  Copper         7905 non-null   float64\n",
      " 13  Alk_Phos       7905 non-null   float64\n",
      " 14  SGOT           7905 non-null   float64\n",
      " 15  Tryglicerides  7905 non-null   float64\n",
      " 16  Platelets      7905 non-null   float64\n",
      " 17  Prothrombin    7905 non-null   float64\n",
      " 18  Stage          7905 non-null   float64\n",
      " 19  Status         7905 non-null   object \n",
      "dtypes: float64(10), int64(3), object(7)\n",
      "memory usage: 1.2+ MB\n"
     ]
    }
   ],
   "source": [
    "train_df.info()"
   ]
  },
  {
   "cell_type": "markdown",
   "id": "3aac87aa-3f84-4489-b41b-627ac808daed",
   "metadata": {},
   "source": [
    "#### After a quick preliminary examination, we found no missing values from the provided train.csv. "
   ]
  },
  {
   "cell_type": "markdown",
   "id": "27face93-73ca-44a0-a7d6-30f64c600306",
   "metadata": {},
   "source": [
    "### Categorical Features "
   ]
  },
  {
   "cell_type": "code",
   "execution_count": null,
   "id": "168d8f00-7b18-49a7-80f4-372adfbaa5fa",
   "metadata": {},
   "outputs": [],
   "source": []
  }
 ],
 "metadata": {
  "kernelspec": {
   "display_name": "Python [conda env:573]",
   "language": "python",
   "name": "conda-env-573-py"
  },
  "language_info": {
   "codemirror_mode": {
    "name": "ipython",
    "version": 3
   },
   "file_extension": ".py",
   "mimetype": "text/x-python",
   "name": "python",
   "nbconvert_exporter": "python",
   "pygments_lexer": "ipython3",
   "version": "3.11.6"
  }
 },
 "nbformat": 4,
 "nbformat_minor": 5
}
